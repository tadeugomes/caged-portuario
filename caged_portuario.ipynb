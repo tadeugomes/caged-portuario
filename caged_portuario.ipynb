{
 "cells": [
  {
   "cell_type": "code",
   "execution_count": 60,
   "id": "74df43d7",
   "metadata": {},
   "outputs": [],
   "source": [
    "import pandas as pd \n",
    "import seaborn as sns\n",
    "import matplotlib as plt\n",
    "import basedosdados as bd\n",
    "sns.set_theme(style=\"whitegrid\")"
   ]
  },
  {
   "cell_type": "code",
   "execution_count": 69,
   "id": "a1cef82f",
   "metadata": {},
   "outputs": [
    {
     "name": "stdout",
     "output_type": "stream",
     "text": [
      "Requirement already satisfied: pandas in c:\\users\\tadeu\\anaconda3\\lib\\site-packages (1.5.3)\n",
      "Collecting pandas\n",
      "  Downloading pandas-2.2.2-cp39-cp39-win_amd64.whl (11.6 MB)\n",
      "     --------------------------------------- 11.6/11.6 MB 13.9 MB/s eta 0:00:00\n",
      "Collecting numpy>=1.22.4\n",
      "  Downloading numpy-2.0.1-cp39-cp39-win_amd64.whl (16.6 MB)\n",
      "     --------------------------------------- 16.6/16.6 MB 19.8 MB/s eta 0:00:00\n",
      "Requirement already satisfied: pytz>=2020.1 in c:\\users\\tadeu\\anaconda3\\lib\\site-packages (from pandas) (2022.1)\n",
      "Requirement already satisfied: tzdata>=2022.7 in c:\\users\\tadeu\\anaconda3\\lib\\site-packages (from pandas) (2023.3)\n",
      "Requirement already satisfied: python-dateutil>=2.8.2 in c:\\users\\tadeu\\anaconda3\\lib\\site-packages (from pandas) (2.8.2)\n",
      "Requirement already satisfied: six>=1.5 in c:\\users\\tadeu\\anaconda3\\lib\\site-packages (from python-dateutil>=2.8.2->pandas) (1.16.0)\n",
      "Installing collected packages: numpy, pandas\n",
      "  Attempting uninstall: numpy\n",
      "    Found existing installation: numpy 1.21.5\n",
      "    Uninstalling numpy-1.21.5:\n",
      "      Successfully uninstalled numpy-1.21.5\n",
      "  Attempting uninstall: pandas\n",
      "    Found existing installation: pandas 1.5.3\n",
      "    Uninstalling pandas-1.5.3:\n",
      "      Successfully uninstalled pandas-1.5.3\n",
      "Successfully installed numpy-2.0.1 pandas-2.2.2\n"
     ]
    },
    {
     "name": "stderr",
     "output_type": "stream",
     "text": [
      "ERROR: pip's dependency resolver does not currently take into account all the packages that are installed. This behaviour is the source of the following dependency conflicts.\n",
      "daal4py 2021.6.0 requires daal==2021.4.0, which is not installed.\n",
      "scipy 1.9.1 requires numpy<1.25.0,>=1.18.5, but you have numpy 2.0.1 which is incompatible.\n",
      "numba 0.55.1 requires numpy<1.22,>=1.18, but you have numpy 2.0.1 which is incompatible.\n",
      "basedosdados 1.6.11 requires pandas<2.0.0,>=1.3.5, but you have pandas 2.2.2 which is incompatible.\n"
     ]
    }
   ],
   "source": [
    "#conda update -n base -c defaults conda\n",
    "!pip install --upgrade pandas\n"
   ]
  },
  {
   "cell_type": "code",
   "execution_count": null,
   "id": "b35dcd63",
   "metadata": {},
   "outputs": [],
   "source": [
    "\n",
    "# Instalar o pacote da basedosdados, caso seja a primeira vez a rodar o script\n",
    "#! pip install basedosdados"
   ]
  },
  {
   "cell_type": "code",
   "execution_count": 61,
   "id": "31915595",
   "metadata": {},
   "outputs": [
    {
     "name": "stderr",
     "output_type": "stream",
     "text": [
      "Downloading: 100%|██████████| 189482/189482 [00:34<00:00, 5487.10rows/s]\n"
     ]
    }
   ],
   "source": [
    "# Para carregar e salvar os dados \n",
    "\n",
    "query = \"\"\"\n",
    "\n",
    "SELECT ano, mes, sigla_uf, saldo_movimentacao, id_municipio, cnae_2_secao, categoria, cnae_2_subclasse, cbo_2002, grau_instrucao, sexo, salario_mensal, indicador_trabalho_intermitente,\n",
    "indicador_trabalho_parcial,   FROM `basedosdados.br_me_caged.microdados_movimentacao` WHERE cnae_2_subclasse  IN (\n",
    "      --esssas duas subclasses são da divisão 50 TRANSPORTE AQUAVIÁRIO\n",
    "      '5231101', --Administração da infraestrutura portuária\n",
    "      '5231102', --Atividades do operador portuário\n",
    "      --esssas outras são novas\n",
    "      '5011401', --Transporte marítimo de cabotagem - carga\n",
    "      '5011402', --Transporte marítimo de cabotagem - passageiros\n",
    "      '5021101', --Transporte por navegação interior de carga, municipal, exceto travessia\n",
    "      '5021102', --Transporte por navegação interior de carga, intermunicipal, interestadual e internacional, exceto travessia\n",
    "      '5022001', --Transporte por navegação interior de passageiros em linhas regulares, municipal, exceto travessia\n",
    "      '5022002', --Transporte por navegação interior de passageiros em linhas regulares, intermunicipal, interestadual e internacional, exceto travessia\n",
    "      '5030101', --Navegação de apoio marítimo\n",
    "      '5030102', --Navegação de apoio portuário\n",
    "      '5030103', --Serviço de rebocadores e empurradores\n",
    "      '5091201', --Transporte por navegação de travessia, municipal\n",
    "      '5091202', --Transporte por navegação de travessia intermunicipal, interestadual e internacional\n",
    "      '5099801', --Transporte aquaviário para passeios turísticos\n",
    "      '5099899' --Outros transportes aquaviários não especificados anteriormente\n",
    ")\n",
    "\n",
    "\n",
    "\"\"\" \n",
    "\n",
    "dados = bd.read_sql(query, billing_project_id=\"observatorio-portuario\")   # Cada usuario deve setar o proprio project_id "
   ]
  },
  {
   "cell_type": "code",
   "execution_count": 73,
   "id": "b5813952",
   "metadata": {},
   "outputs": [
    {
     "ename": "TypeError",
     "evalue": "__init__() got an unexpected keyword argument 'line_terminator'",
     "output_type": "error",
     "traceback": [
      "\u001b[1;31m---------------------------------------------------------------------------\u001b[0m",
      "\u001b[1;31mTypeError\u001b[0m                                 Traceback (most recent call last)",
      "\u001b[1;32m~\\AppData\\Local\\Temp\\ipykernel_8100\\3253510978.py\u001b[0m in \u001b[0;36m<module>\u001b[1;34m\u001b[0m\n\u001b[0;32m      1\u001b[0m \u001b[1;31m# Salvar o DataFrame em um arquivo CSV\u001b[0m\u001b[1;33m\u001b[0m\u001b[1;33m\u001b[0m\u001b[0m\n\u001b[1;32m----> 2\u001b[1;33m \u001b[0mdados\u001b[0m\u001b[1;33m.\u001b[0m\u001b[0mto_csv\u001b[0m\u001b[1;33m(\u001b[0m\u001b[1;34m'caged.csv'\u001b[0m\u001b[1;33m,\u001b[0m \u001b[0mencoding\u001b[0m\u001b[1;33m=\u001b[0m\u001b[1;34m'utf-8'\u001b[0m\u001b[1;33m,\u001b[0m \u001b[0mindex\u001b[0m\u001b[1;33m=\u001b[0m\u001b[1;32mFalse\u001b[0m\u001b[1;33m)\u001b[0m\u001b[1;33m\u001b[0m\u001b[1;33m\u001b[0m\u001b[0m\n\u001b[0m\u001b[0;32m      3\u001b[0m \u001b[1;33m\u001b[0m\u001b[0m\n\u001b[0;32m      4\u001b[0m \u001b[1;31m# Confirmar que o arquivo foi salvo\u001b[0m\u001b[1;33m\u001b[0m\u001b[1;33m\u001b[0m\u001b[0m\n\u001b[0;32m      5\u001b[0m \u001b[0mprint\u001b[0m\u001b[1;33m(\u001b[0m\u001b[1;34m\"DataFrame salvo em 'dados.csv'\"\u001b[0m\u001b[1;33m)\u001b[0m\u001b[1;33m\u001b[0m\u001b[1;33m\u001b[0m\u001b[0m\n",
      "\u001b[1;32mc:\\Users\\tadeu\\anaconda3\\lib\\site-packages\\pandas\\core\\generic.py\u001b[0m in \u001b[0;36mto_csv\u001b[1;34m(self, path_or_buf, sep, na_rep, float_format, columns, header, index, index_label, mode, encoding, compression, quoting, quotechar, line_terminator, chunksize, date_format, doublequote, escapechar, decimal, errors, storage_options)\u001b[0m\n\u001b[0;32m   3549\u001b[0m         >>> print(df.to_latex(index=False,\n\u001b[0;32m   3550\u001b[0m         \u001b[1;33m...\u001b[0m                   \u001b[0mformatters\u001b[0m\u001b[1;33m=\u001b[0m\u001b[1;33m{\u001b[0m\u001b[1;34m\"name\"\u001b[0m\u001b[1;33m:\u001b[0m \u001b[0mstr\u001b[0m\u001b[1;33m.\u001b[0m\u001b[0mupper\u001b[0m\u001b[1;33m}\u001b[0m\u001b[1;33m,\u001b[0m\u001b[1;33m\u001b[0m\u001b[1;33m\u001b[0m\u001b[0m\n\u001b[1;32m-> 3551\u001b[1;33m         \u001b[1;33m...\u001b[0m                   \u001b[0mfloat_format\u001b[0m\u001b[1;33m=\u001b[0m\u001b[1;34m\"{:.1f}\"\u001b[0m\u001b[1;33m.\u001b[0m\u001b[0mformat\u001b[0m\u001b[1;33m,\u001b[0m\u001b[1;33m\u001b[0m\u001b[1;33m\u001b[0m\u001b[0m\n\u001b[0m\u001b[0;32m   3552\u001b[0m         ... ))  # doctest: +SKIP\n\u001b[0;32m   3553\u001b[0m         \u001b[0;31m\\\u001b[0m\u001b[0mbegin\u001b[0m\u001b[1;33m{\u001b[0m\u001b[0mtabular\u001b[0m\u001b[1;33m}\u001b[0m\u001b[1;33m{\u001b[0m\u001b[0mlrr\u001b[0m\u001b[1;33m}\u001b[0m\u001b[1;33m\u001b[0m\u001b[1;33m\u001b[0m\u001b[0m\n",
      "\u001b[1;32mc:\\Users\\tadeu\\anaconda3\\lib\\site-packages\\pandas\\io\\formats\\format.py\u001b[0m in \u001b[0;36mto_csv\u001b[1;34m(self, path_or_buf, encoding, sep, columns, index_label, mode, compression, quoting, quotechar, line_terminator, chunksize, date_format, doublequote, escapechar, errors, storage_options)\u001b[0m\n\u001b[0;32m   1159\u001b[0m     )\n\u001b[0;32m   1160\u001b[0m \u001b[1;33m\u001b[0m\u001b[0m\n\u001b[1;32m-> 1161\u001b[1;33m     \u001b[1;32mreturn\u001b[0m \u001b[0mfmt_obj\u001b[0m\u001b[1;33m.\u001b[0m\u001b[0mget_result\u001b[0m\u001b[1;33m(\u001b[0m\u001b[1;33m)\u001b[0m\u001b[1;33m\u001b[0m\u001b[1;33m\u001b[0m\u001b[0m\n\u001b[0m\u001b[0;32m   1162\u001b[0m \u001b[1;33m\u001b[0m\u001b[0m\n\u001b[0;32m   1163\u001b[0m \u001b[1;33m\u001b[0m\u001b[0m\n",
      "\u001b[1;31mTypeError\u001b[0m: __init__() got an unexpected keyword argument 'line_terminator'"
     ]
    }
   ],
   "source": [
    "# Salvar o DataFrame em um arquivo CSV\n",
    "dados.to_csv('caged.csv', encoding='utf-8', index=False)\n",
    "\n",
    "# Confirmar que o arquivo foi salvo\n",
    "print(\"DataFrame salvo em 'dados.csv'\")"
   ]
  },
  {
   "cell_type": "code",
   "execution_count": 72,
   "id": "3c4939e4",
   "metadata": {},
   "outputs": [
    {
     "data": {
      "text/plain": [
       "2"
      ]
     },
     "execution_count": 72,
     "metadata": {},
     "output_type": "execute_result"
    }
   ],
   "source": [
    "num_valores_unicos = dados['sexo'].nunique()\n",
    "num_valores_unicos"
   ]
  },
  {
   "cell_type": "code",
   "execution_count": null,
   "id": "e0aac964",
   "metadata": {},
   "outputs": [],
   "source": [
    "dados = pd.read_csv(\"caged.csv\", encoding = 'latin')"
   ]
  },
  {
   "cell_type": "code",
   "execution_count": null,
   "id": "c7f8a5c3",
   "metadata": {},
   "outputs": [],
   "source": [
    "#dados.backup = dados\n",
    "dados_teste = dados "
   ]
  },
  {
   "cell_type": "code",
   "execution_count": null,
   "id": "14618e90",
   "metadata": {},
   "outputs": [],
   "source": [
    "# verificar os dados \n",
    "dados.head(5)"
   ]
  },
  {
   "cell_type": "code",
   "execution_count": null,
   "id": "8b74041b",
   "metadata": {},
   "outputs": [],
   "source": [
    "dados['ano_mes'] = dados['ano'].map(str) + '-' + dados['mes'].map(str) + '-01'\n",
    "dados.tail(5)"
   ]
  },
  {
   "cell_type": "code",
   "execution_count": null,
   "id": "06879aeb",
   "metadata": {},
   "outputs": [],
   "source": [
    "from datetime import datetime\n",
    "import locale\n",
    "\n",
    "locale.setlocale(locale.LC_ALL, 'pt_BR')\n",
    "formato = \"%Y-%m-%d\"\n",
    "dados.ano_mes = dados.ano_mes.apply(lambda linha: datetime.strptime(linha, formato))"
   ]
  },
  {
   "cell_type": "code",
   "execution_count": null,
   "id": "5d84f54b",
   "metadata": {},
   "outputs": [],
   "source": [
    "#Vamos fazer o label encoding com a criação de dicionário para recodificar variavel \n",
    "# https://www.sharpsightlabs.com/blog/recode-categorical-variable-python/ \n",
    "#dados.assign(teste  = dados.sexo.map(sexo_mapping)) #Usar essa abordagem para testar antes de salvar diretamente no dataframe\n"
   ]
  },
  {
   "cell_type": "code",
   "execution_count": 76,
   "id": "0d9e700f",
   "metadata": {},
   "outputs": [
    {
     "data": {
      "text/plain": [
       "Series([], Name: sexo, dtype: int64)"
      ]
     },
     "execution_count": 76,
     "metadata": {},
     "output_type": "execute_result"
    }
   ],
   "source": [
    "sexo_mapping = {1:'Masculino',\n",
    "                3:'Feminino', \n",
    "               }\n",
    "\n",
    "dados['sexo'] = dados['sexo'].map(sexo_mapping) \n",
    "\n",
    "dados.sexo.value_counts()\n"
   ]
  },
  {
   "cell_type": "code",
   "execution_count": 77,
   "id": "2c668da3",
   "metadata": {},
   "outputs": [
    {
     "data": {
      "text/plain": [
       "0         NaN\n",
       "1         NaN\n",
       "2         NaN\n",
       "3         NaN\n",
       "4         NaN\n",
       "         ... \n",
       "189477    NaN\n",
       "189478    NaN\n",
       "189479    NaN\n",
       "189480    NaN\n",
       "189481    NaN\n",
       "Name: sexo, Length: 189482, dtype: object"
      ]
     },
     "execution_count": 77,
     "metadata": {},
     "output_type": "execute_result"
    }
   ],
   "source": [
    "dados.sexo"
   ]
  },
  {
   "cell_type": "code",
   "execution_count": null,
   "id": "37745da8",
   "metadata": {},
   "outputs": [],
   "source": [
    "dados['sexo'] = dados['sexo'].map(sexo_mapping) \n",
    "\n",
    "dados.sexo.value_counts()"
   ]
  },
  {
   "cell_type": "code",
   "execution_count": null,
   "id": "6fc6bd1f",
   "metadata": {},
   "outputs": [],
   "source": [
    "saldo_mapping = {1:'Admissão', \n",
    "                -1:'Demissão', \n",
    "                }\n",
    "\n",
    "\n",
    "dados['saldo_movimentacao'] = dados['saldo_movimentacao'].map(saldo_mapping)\n",
    "\n",
    "# Isso informa apenas o número de registros\n",
    "#dados.saldo_movimentacao.value_counts()\n"
   ]
  },
  {
   "cell_type": "code",
   "execution_count": null,
   "id": "da527aa8",
   "metadata": {},
   "outputs": [],
   "source": [
    "# Com o datasaset completo, criar gráfico de linha com o saldo do período "
   ]
  },
  {
   "cell_type": "code",
   "execution_count": null,
   "id": "134926ec",
   "metadata": {},
   "outputs": [],
   "source": [
    "intermitente_mapping = {1:'Sim', \n",
    "                0:'Nao', \n",
    "                9:'nan'\n",
    "                    }\n",
    "\n",
    "dados['indicador_trabalho_intermitente'] = dados['indicador_trabalho_intermitente'].map(intermitente_mapping)\n",
    "\n",
    "#dados.indicador_trabalho_intermitente.value_counts()"
   ]
  },
  {
   "cell_type": "code",
   "execution_count": null,
   "id": "fa67f5bd",
   "metadata": {},
   "outputs": [],
   "source": [
    "grauinstrucao_mapping = {1:'Analfabeto',\n",
    "2:'Até 5ª Incompleto',\n",
    "3:'5ª Completo Fundamental',\n",
    "4:'6ª a 9ª Fundamental',\n",
    "5:'Fundamental Completo',\n",
    "6:'Médio Incompleto',\n",
    "7:'Médio Completo',\n",
    "8:'Superior Incompleto',\n",
    "9:'Superior Completo',\n",
    "10:'Mestrado',\n",
    "11:'Doutorado',\n",
    "80:'Pós-Graduação completa',\n",
    "99:'Não Identificado'\n",
    "\n",
    "}\n",
    "\n",
    "dados['grau_instrucao'] = dados['grau_instrucao'].map(grauinstrucao_mapping)\n",
    "\n",
    "#dados.grau_instrucao.value_counts()"
   ]
  },
  {
   "cell_type": "code",
   "execution_count": null,
   "id": "8567c08f",
   "metadata": {},
   "outputs": [],
   "source": [
    "parcial_mapping = {1:'Sim', \n",
    "                0:'Nao', \n",
    "                9:'nan'\n",
    "                    }\n",
    "\n",
    "dados['indicador_trabalho_parcial'] = dados['indicador_trabalho_parcial'].map(parcial_mapping)\n",
    "\n",
    "#dados.indicador_trabalho_parcial.value_counts()\n"
   ]
  },
  {
   "cell_type": "code",
   "execution_count": null,
   "id": "6458ac4d",
   "metadata": {},
   "outputs": [],
   "source": [
    "regiao_mapping = {1:'Norte',\n",
    "                2:'Nordeste', \n",
    "                3:'Sudeste', \n",
    "                4:'Sul', \n",
    "                5:'Centro-Oeste', \n",
    "                9: 'nan'\n",
    "                    }\n"
   ]
  },
  {
   "cell_type": "code",
   "execution_count": null,
   "id": "3f02bb0b",
   "metadata": {},
   "outputs": [],
   "source": [
    "uf_mapping = {\n",
    "    11:'Rondonia',\n",
    "12:'Acre',\n",
    "13:'Amazonas',\n",
    "14:'Roraima',\n",
    "15:'Para',\n",
    "16:'Amapa',\n",
    "17:'Tocantins',\n",
    "21:'Maranhao',\n",
    "22:'Piaui',\n",
    "23:'Ceara',\n",
    "24:'Rio-Grande-do-Norte',\n",
    "25:'Paraiba',\n",
    "26:'Pernambuco',\n",
    "27:'Alagoas',\n",
    "28:'Sergipe',\n",
    "29:'Bahia',\n",
    "31:'Minas-gerais',\n",
    "32:'Espirito-Santo',\n",
    "33:'Rio-de-Janeiro', \n",
    "35:'Sao-Paulo',\n",
    "41:'Parana',\n",
    "42:'Santa Catarina',\n",
    "43:'Rio Grande do Sul',\n",
    "50:'Mato Grosso do Sul',\n",
    "51:'Mato Grosso',\n",
    "52:'Goias',\n",
    "53:'Distrito-Federal',\n",
    "99: 'nan'\n",
    "\n",
    "}"
   ]
  },
  {
   "cell_type": "code",
   "execution_count": null,
   "id": "fb825bbf",
   "metadata": {},
   "outputs": [],
   "source": [
    "secao_mapping = {\n",
    "    \n",
    "'A':'Agricultura, Pecuária, Produção Florestal, Pesca e Aquicultura',\n",
    "'B':'Indústrias Extrativas',\n",
    "'C':'Indústrias de Transformação',\n",
    "'D':'Eletricidade e Gás',\n",
    "'E':'Água, Esgoto, Atividades de Gestão de Resíduos e Descontaminação',\n",
    "'F':'Construção',\n",
    "'G':'Comércio, Reparação de Veículos Automotores e Motocicletas',\n",
    "'H':'Transporte, Armazenagem e Correio',\n",
    "'I':'Alojamento e Alimentação',\n",
    "'J':'Informação e Comunicação',\n",
    "'K':'Atividades Financeiras, de Seguros e Serviços Relacionados',\n",
    "'L':'Atividades Imobiliárias',\n",
    "'M':'Atividades Profissionais, Científicas e Técnicas',\n",
    "'N':'Atividades Administrativas e Serviços Complementares',\n",
    "'O':'Administração Pública, Defesa e Seguridade Social',\n",
    "'P':'Educação',\n",
    "'Q':'Saúde Humana e Serviços Sociais',\n",
    "'R':'Artes, Cultura, Esporte e Recreação',\n",
    "'S':'Outras Atividades de Serviços',\n",
    "'T':'Serviços Domésticos',\n",
    "'U':'Organismos Internacionais e Outras Instituições Extraterritoriais',\n",
    "'Z':'Não identificado'\n",
    "}\n",
    "\n",
    "dados['cnae_2_secao'] = dados['cnae_2_secao'].map(secao_mapping)\n",
    "\n",
    "dados.cnae_2_secao.value_counts()\n"
   ]
  },
  {
   "cell_type": "code",
   "execution_count": null,
   "id": "fd435f7b",
   "metadata": {},
   "outputs": [],
   "source": [
    "dados.tail(3)"
   ]
  },
  {
   "cell_type": "code",
   "execution_count": null,
   "id": "d31ee33b",
   "metadata": {},
   "outputs": [],
   "source": [
    "dados.cnae_2_subclasse.value_counts()\n",
    "\n",
    "#Fazer o mapping aqui também \n"
   ]
  },
  {
   "cell_type": "code",
   "execution_count": null,
   "id": "9a8fb8cd",
   "metadata": {},
   "outputs": [],
   "source": [
    "teste = dados\n",
    "teste.tail(2)"
   ]
  },
  {
   "cell_type": "code",
   "execution_count": null,
   "id": "98259904",
   "metadata": {},
   "outputs": [],
   "source": [
    "# Alguns dados do contexto nacional \n",
    "\n",
    "#teste.saldo_movimentacao.value_counts().plot(kind=\"bar\")\n",
    "\n",
    "# group by a column and count a variable and plot it\n",
    "# teste.groupby('uf').size().plot(kind=\"bar\")\n",
    "\n",
    "dados[['sigla_uf', 'saldo_movimentacao']].groupby(['sigla_uf']).agg(['count'])\n",
    "\n"
   ]
  },
  {
   "cell_type": "markdown",
   "id": "b2840125",
   "metadata": {},
   "source": [
    "## Selecionar mês vigente para análise"
   ]
  },
  {
   "cell_type": "code",
   "execution_count": null,
   "id": "47c45572",
   "metadata": {},
   "outputs": [],
   "source": [
    "print(dados.ano_mes.min())\n",
    "print(dados.ano_mes.max())"
   ]
  },
  {
   "cell_type": "code",
   "execution_count": null,
   "id": "95dd8168",
   "metadata": {},
   "outputs": [],
   "source": [
    "# Esse método é manual. Tem que automatizar\n",
    "\n",
    "saldo_mes_atual = dados.loc[(dados.ano_mes == \"2024-06-01\")]\n",
    "saldo_mes_atual"
   ]
  },
  {
   "cell_type": "code",
   "execution_count": null,
   "id": "9f85edc9",
   "metadata": {},
   "outputs": [],
   "source": [
    "# sns.catplot(data=dados, x=\"sexo\", kind=\"count\", palette=\"ch:.25\")\n",
    "saldo_atual = sns.catplot(\n",
    "    data=saldo_mes_atual, y=\"saldo_movimentacao\", hue=\"sexo\", kind=\"count\",\n",
    "    palette=\"pastel\", edgecolor=\".6\"\n",
    ")\n",
    "\n",
    "# Verificar se os containers possuem dados antes de adicionar os rótulos\n",
    "if saldo_atual.axes[0,0].containers:\n",
    "    saldo_atual.axes[0,0].bar_label(saldo_atual.axes[0,0].containers[0])\n",
    "    saldo_atual.axes[0,0].bar_label(saldo_atual.axes[0,0].containers[1])\n",
    "\n",
    "# saldo_atual.fig.suptitle('Movimentação de vínculos de emprego no mês', fontsize=18)\n",
    "saldo_atual.set_xlabels(\"Nº de registros\")\n",
    "saldo_atual.set_ylabels(\"\")"
   ]
  },
  {
   "cell_type": "code",
   "execution_count": null,
   "id": "2609a53f",
   "metadata": {},
   "outputs": [],
   "source": [
    "#sns.catplot(data=dados, x=\"sexo\", kind=\"count\", palette=\"ch:.25\")\n",
    "\n",
    "saldo_atual = sns.catplot(\n",
    "    data=saldo_mes_atual, y=\"saldo_movimentacao\", hue=\"sexo\", kind=\"count\",\n",
    "    palette=\"pastel\", edgecolor=\".6\",\n",
    ")\n",
    "\n",
    "# O objeto criado pela catplot não é uma barplot. Ver aqui: https://stackoverflow.com/questions/69810130/seaborn-display-values-on-barplot\n",
    "saldo_atual.axes[0,0].bar_label(saldo_atual.axes[0,0].containers[0])\n",
    "saldo_atual.axes[0,0].bar_label(saldo_atual.axes[0,0].containers[1])\n",
    "#saldo_atual.fig.suptitle('Movimentação de vínculos de emprego no mês', fontsize=18)\n",
    "saldo_atual.set_xlabels(\"Nº de registros\")\n",
    "saldo_atual.set_ylabels(\"\")\n"
   ]
  },
  {
   "cell_type": "code",
   "execution_count": null,
   "id": "9ee9485d",
   "metadata": {},
   "outputs": [],
   "source": [
    "descending_order = saldo_mes_atual[\"grau_instrucao\"].value_counts().sort_values(ascending=False).index\n",
    "\n",
    "edu = sns.countplot(data=saldo_mes_atual, y=\"grau_instrucao\", order=descending_order, hue = \"saldo_movimentacao\")\n",
    "\n",
    "#ax.bar_label(ax.containers[0], label_type='edge')\n",
    "container = edu.containers[0]\n",
    "container_1 = edu.containers[1]\n",
    "edu.bar_label(container, labels=[f'{x:,.0f}' for x in container.datavalues])\n",
    "edu.bar_label(container_1, labels=[f'{x:,.0f}' for x in container_1.datavalues])\n",
    "edu.legend(loc='upper right', bbox_to_anchor=(1.3, 1))\n",
    "\n",
    "\n",
    "# Add some text for labels, title and custom x-axis tick labels, etc.\n",
    "edu.set_ylabel(' ')\n",
    "edu.set_xlabel('Registros')\n",
    "edu.set_title('Movimentação de vínculos por escolaridade', fontsize=18)\n",
    "\n",
    "# https://matplotlib.org/stable/gallery/lines_bars_and_markers/barchart.html#sphx-glr-gallery-lines-bars-and-markers-barchart-py "
   ]
  },
  {
   "cell_type": "code",
   "execution_count": null,
   "id": "04e4d909",
   "metadata": {},
   "outputs": [],
   "source": []
  },
  {
   "cell_type": "code",
   "execution_count": null,
   "id": "03b265b3",
   "metadata": {},
   "outputs": [],
   "source": [
    "ax = sns.countplot(x=\"indicador_trabalho_parcial\", hue=\"saldo_movimentacao\", data=saldo_mes_atual)\n",
    "\n",
    "#Adicionar label com casa decimal. Verificar aqui: https://stackoverflow.com/questions/70515542/adding-comma-to-bar-labels \n",
    "\n",
    "#ax.bar_label(ax.containers[0], label_type='edge')\n",
    "container = ax.containers[0]\n",
    "ax.bar_label(container, labels=[f'{x:,.0f}' for x in container.datavalues])\n",
    "\n",
    "#https://www.kaggle.com/code/slamnz/seaborn-tutorial-count-plots\n",
    "#https://medium.com/swlh/quick-guide-to-labelling-data-for-common-seaborn-plots-736e10bf14a9 \n",
    "\n",
    "ax.set_ylabel('')\n",
    "ax.set_xlabel('')\n",
    "ax.set_title('Movimentação do Trabalho parcial', fontsize=18)"
   ]
  },
  {
   "cell_type": "code",
   "execution_count": null,
   "id": "67eec29a",
   "metadata": {},
   "outputs": [],
   "source": [
    "plot_intermitente = sns.countplot(x=\"indicador_trabalho_intermitente\", data=dados)\n",
    "\n",
    "plot_intermitente.bar_label(plot_intermitente.containers[0], label_type='edge')"
   ]
  },
  {
   "cell_type": "code",
   "execution_count": null,
   "id": "d33ac54a",
   "metadata": {},
   "outputs": [],
   "source": [
    "pip install tabulate\n",
    "#https://towardsdatascience.com/how-to-easily-create-tables-in-python-2eaea447d8fd"
   ]
  },
  {
   "cell_type": "code",
   "execution_count": null,
   "id": "f6c264e5",
   "metadata": {},
   "outputs": [],
   "source": [
    "from tabulate import tabulate\n"
   ]
  },
  {
   "cell_type": "code",
   "execution_count": null,
   "id": "fbf1ad34",
   "metadata": {},
   "outputs": [],
   "source": [
    "intermitente = dados.indicador_trabalho_intermitente.value_counts()\n",
    "\n"
   ]
  },
  {
   "cell_type": "code",
   "execution_count": null,
   "id": "733567dd",
   "metadata": {},
   "outputs": [],
   "source": [
    "print(tabulate(dados, tablefmt='fancy_grid'))\n"
   ]
  },
  {
   "cell_type": "code",
   "execution_count": null,
   "id": "680f246a",
   "metadata": {},
   "outputs": [],
   "source": [
    "\n"
   ]
  },
  {
   "cell_type": "code",
   "execution_count": null,
   "id": "ac2038ac",
   "metadata": {},
   "outputs": [],
   "source": [
    "x = dados.groupby(['ano_mes', 'saldo_movimentacao']).size()\n",
    "\n",
    "x"
   ]
  },
  {
   "cell_type": "code",
   "execution_count": null,
   "id": "d0de92dd",
   "metadata": {},
   "outputs": [],
   "source": [
    "x[\"difere\"] = x[\"station_london\"]-x[\"saldo_movimentacao\"==\"Demissão\"]"
   ]
  },
  {
   "cell_type": "code",
   "execution_count": null,
   "id": "6e761a68",
   "metadata": {},
   "outputs": [],
   "source": [
    "sns.lineplot(x='Year', y='value', hue='variable', \n",
    "             data=pd.melt(data_preproc, ['Year']))"
   ]
  },
  {
   "cell_type": "code",
   "execution_count": null,
   "id": "a3891ffa",
   "metadata": {},
   "outputs": [],
   "source": [
    "\n",
    "from matplotlib.pyplot import xticks\n",
    "\n",
    "lineplot = sns.lineplot(data=dados, x=\"ano_mes\", y=\"saldo_movimentacao\", ci=None)\n",
    "#xticks(rotation=40)\n",
    "\n",
    "\n",
    "lineplot.set_xticklabels(lineplot.get_xticklabels(),rotation=30)\n",
    "lineplot.set_xlabel(\"Mês\")\n",
    "lineplot.set_ylabel(\"Saldo\")\n",
    "\n",
    "\n",
    "#https://stackoverflow.com/questions/44954123/rotate-xtick-labels-in-seaborn-boxplot \n",
    "#https://stackoverflow.com/questions/45201514/how-to-edit-a-seaborn-legend-title-and-labels-for-figure-level-functions\n"
   ]
  },
  {
   "cell_type": "code",
   "execution_count": null,
   "id": "d0202d9e",
   "metadata": {},
   "outputs": [],
   "source": [
    "fig = sns.lineplot(\n",
    "    data=dados.groupby(['ano_mes','saldo_movimentacao', 'sexo']).size().reset_index(name='count'), \n",
    "    x='ano_mes', y='count', hue = 'saldo_movimentacao', marker='o', ci=None)\n",
    "\n",
    "fig.set_xticklabels(lineplot.get_xticklabels(),rotation=30)\n"
   ]
  },
  {
   "cell_type": "code",
   "execution_count": null,
   "id": "af3f10b3",
   "metadata": {
    "scrolled": true
   },
   "outputs": [],
   "source": [
    "data=dados.groupby(['ano_mes','saldo_movimentacao', 'sexo']).size().reset_index(name='count')\n",
    "data"
   ]
  },
  {
   "cell_type": "code",
   "execution_count": null,
   "id": "2b1a6eb3",
   "metadata": {},
   "outputs": [],
   "source": [
    "data"
   ]
  },
  {
   "cell_type": "code",
   "execution_count": null,
   "id": "98259d45",
   "metadata": {},
   "outputs": [],
   "source": [
    "plot = sns.lineplot(x='ano_mes', y='count', hue='saldo_movimentacao', ci=None, \n",
    "             data=data)\n",
    "plot.set_xticklabels(lineplot.get_xticklabels(),rotation=30)"
   ]
  },
  {
   "cell_type": "code",
   "execution_count": null,
   "id": "db93b21a",
   "metadata": {},
   "outputs": [],
   "source": [
    "ax1 = sns.catplot(\n",
    "    data=newdf, y=\"saldo_movimentacao\", hue=\"sexo\", kind=\"count\",\n",
    "    palette=\"pastel\", edgecolor=\".6\",\n",
    ")\n",
    "\n",
    "# O objeto criado pela catplot não é uma barplot. Ver aqui: https://stackoverflow.com/questions/69810130/seaborn-display-values-on-barplot\n",
    "ax1.axes[0,0].bar_label(ax1.axes[0,0].containers[0])\n",
    "ax1.axes[0,0].bar_label(ax1.axes[0,0].containers[1])\n",
    "\n",
    "\n",
    "# https://stackoverflow.com/questions/55586912/seaborn-catplot-set-values-over-the-bars \n",
    "#https://stackoverflow.com/questions/28931224/how-to-add-value-labels-on-a-bar-chart/67561982#67561982\n"
   ]
  }
 ],
 "metadata": {
  "kernelspec": {
   "display_name": "Python 3 (ipykernel)",
   "language": "python",
   "name": "python3"
  },
  "language_info": {
   "codemirror_mode": {
    "name": "ipython",
    "version": 3
   },
   "file_extension": ".py",
   "mimetype": "text/x-python",
   "name": "python",
   "nbconvert_exporter": "python",
   "pygments_lexer": "ipython3",
   "version": "3.9.13"
  },
  "vscode": {
   "interpreter": {
    "hash": "d47fe33bca25fb8a175ffe169ff1c35c395d3ccbd98091db69ef2344b314b856"
   }
  }
 },
 "nbformat": 4,
 "nbformat_minor": 5
}
