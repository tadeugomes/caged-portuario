{
 "cells": [
  {
   "cell_type": "code",
   "execution_count": 1,
   "id": "74df43d7",
   "metadata": {},
   "outputs": [],
   "source": [
    "import pandas as pd \n",
    "import seaborn as sns\n",
    "import matplotlib as plt\n",
    "import basedosdados as bd\n",
    "sns.set_theme(style=\"darkgrid\")"
   ]
  },
  {
   "cell_type": "code",
   "execution_count": null,
   "id": "a1cef82f",
   "metadata": {},
   "outputs": [],
   "source": [
    "#conda update -n base -c defaults conda"
   ]
  },
  {
   "cell_type": "code",
   "execution_count": null,
   "id": "b35dcd63",
   "metadata": {},
   "outputs": [],
   "source": [
    "\n",
    "# Instalar o pacote da basedosdados, caso seja a primeira vez a rodar o script\n",
    "# ! pip install basedosdados"
   ]
  },
  {
   "cell_type": "code",
   "execution_count": 3,
   "id": "31915595",
   "metadata": {},
   "outputs": [
    {
     "name": "stderr",
     "output_type": "stream",
     "text": [
      "Downloading: 100%|██████████| 2709/2709 [00:00<00:00, 3888.87rows/s]\n"
     ]
    }
   ],
   "source": [
    "# Para carregar e salvar os dados \n",
    "\n",
    "query = \"\"\"\n",
    "\n",
    "SELECT ano, mes, sigla_uf, saldo_movimentacao, id_municipio, cnae_2_secao, categoria, cnae_2_subclasse, cbo_2002, grau_instrucao, sexo, salario_mensal, indicador_trabalho_intermitente,\n",
    "indicador_trabalho_parcial,   FROM `basedosdados.br_me_caged.microdados_movimentacao` WHERE sigla_uf = \"MA\" AND cnae_2_subclasse  IN (\n",
    "      --esssas duas subclasses são da divisão 50 TRANSPORTE AQUAVIÁRIO\n",
    "      '5231101', --Administração da infraestrutura portuária\n",
    "      '5231102', --Atividades do operador portuário\n",
    "      --esssas outras são novas\n",
    "      '5011401', --Transporte marítimo de cabotagem - carga\n",
    "      '5011402', --Transporte marítimo de cabotagem - passageiros\n",
    "      '5021101', --Transporte por navegação interior de carga, municipal, exceto travessia\n",
    "      '5021102', --Transporte por navegação interior de carga, intermunicipal, interestadual e internacional, exceto travessia\n",
    "      '5022001', --Transporte por navegação interior de passageiros em linhas regulares, municipal, exceto travessia\n",
    "      '5022002', --Transporte por navegação interior de passageiros em linhas regulares, intermunicipal, interestadual e internacional, exceto travessia\n",
    "      '5030101', --Navegação de apoio marítimo\n",
    "      '5030102', --Navegação de apoio portuário\n",
    "      '5030103', --Serviço de rebocadores e empurradores\n",
    "      '5091201', --Transporte por navegação de travessia, municipal\n",
    "      '5091202', --Transporte por navegação de travessia intermunicipal, interestadual e internacional\n",
    "      '5099801', --Transporte aquaviário para passeios turísticos\n",
    "      '5099899' --Outros transportes aquaviários não especificados anteriormente\n",
    ")\n",
    "\n",
    "\n",
    "\"\"\" \n",
    "\n",
    "dados = bd.read_sql(query, billing_project_id=\"caged-368713\")   # Cada usuario deve setar o proprio project_id "
   ]
  },
  {
   "cell_type": "code",
   "execution_count": 4,
   "id": "b5813952",
   "metadata": {},
   "outputs": [],
   "source": [
    "# salvar os dados em .csv \n",
    "dados.to_csv(\"dados.csv\", encoding = 'utf-8')"
   ]
  },
  {
   "cell_type": "code",
   "execution_count": 5,
   "id": "e0aac964",
   "metadata": {},
   "outputs": [],
   "source": [
    "dados = pd.read_csv(\"dados.csv\")"
   ]
  },
  {
   "cell_type": "code",
   "execution_count": 6,
   "id": "14618e90",
   "metadata": {},
   "outputs": [
    {
     "data": {
      "text/html": [
       "<div>\n",
       "<style scoped>\n",
       "    .dataframe tbody tr th:only-of-type {\n",
       "        vertical-align: middle;\n",
       "    }\n",
       "\n",
       "    .dataframe tbody tr th {\n",
       "        vertical-align: top;\n",
       "    }\n",
       "\n",
       "    .dataframe thead th {\n",
       "        text-align: right;\n",
       "    }\n",
       "</style>\n",
       "<table border=\"1\" class=\"dataframe\">\n",
       "  <thead>\n",
       "    <tr style=\"text-align: right;\">\n",
       "      <th></th>\n",
       "      <th>Unnamed: 0</th>\n",
       "      <th>ano</th>\n",
       "      <th>mes</th>\n",
       "      <th>sigla_uf</th>\n",
       "      <th>saldo_movimentacao</th>\n",
       "      <th>id_municipio</th>\n",
       "      <th>cnae_2_secao</th>\n",
       "      <th>categoria</th>\n",
       "      <th>cnae_2_subclasse</th>\n",
       "      <th>cbo_2002</th>\n",
       "      <th>grau_instrucao</th>\n",
       "      <th>sexo</th>\n",
       "      <th>salario_mensal</th>\n",
       "      <th>indicador_trabalho_intermitente</th>\n",
       "      <th>indicador_trabalho_parcial</th>\n",
       "    </tr>\n",
       "  </thead>\n",
       "  <tbody>\n",
       "    <tr>\n",
       "      <th>0</th>\n",
       "      <td>0</td>\n",
       "      <td>2020</td>\n",
       "      <td>2</td>\n",
       "      <td>MA</td>\n",
       "      <td>1</td>\n",
       "      <td>2111300</td>\n",
       "      <td>H</td>\n",
       "      <td>101</td>\n",
       "      <td>5231102</td>\n",
       "      <td>715135</td>\n",
       "      <td>7</td>\n",
       "      <td>1</td>\n",
       "      <td>NaN</td>\n",
       "      <td>0</td>\n",
       "      <td>0</td>\n",
       "    </tr>\n",
       "    <tr>\n",
       "      <th>1</th>\n",
       "      <td>1</td>\n",
       "      <td>2020</td>\n",
       "      <td>2</td>\n",
       "      <td>MA</td>\n",
       "      <td>1</td>\n",
       "      <td>2111300</td>\n",
       "      <td>H</td>\n",
       "      <td>101</td>\n",
       "      <td>5231102</td>\n",
       "      <td>411010</td>\n",
       "      <td>9</td>\n",
       "      <td>3</td>\n",
       "      <td>NaN</td>\n",
       "      <td>0</td>\n",
       "      <td>0</td>\n",
       "    </tr>\n",
       "    <tr>\n",
       "      <th>2</th>\n",
       "      <td>2</td>\n",
       "      <td>2020</td>\n",
       "      <td>2</td>\n",
       "      <td>MA</td>\n",
       "      <td>1</td>\n",
       "      <td>2111300</td>\n",
       "      <td>H</td>\n",
       "      <td>101</td>\n",
       "      <td>5030102</td>\n",
       "      <td>215115</td>\n",
       "      <td>7</td>\n",
       "      <td>1</td>\n",
       "      <td>NaN</td>\n",
       "      <td>0</td>\n",
       "      <td>0</td>\n",
       "    </tr>\n",
       "    <tr>\n",
       "      <th>3</th>\n",
       "      <td>3</td>\n",
       "      <td>2020</td>\n",
       "      <td>2</td>\n",
       "      <td>MA</td>\n",
       "      <td>-1</td>\n",
       "      <td>2112001</td>\n",
       "      <td>H</td>\n",
       "      <td>999</td>\n",
       "      <td>5091202</td>\n",
       "      <td>421125</td>\n",
       "      <td>5</td>\n",
       "      <td>3</td>\n",
       "      <td>NaN</td>\n",
       "      <td>0</td>\n",
       "      <td>0</td>\n",
       "    </tr>\n",
       "    <tr>\n",
       "      <th>4</th>\n",
       "      <td>4</td>\n",
       "      <td>2020</td>\n",
       "      <td>2</td>\n",
       "      <td>MA</td>\n",
       "      <td>-1</td>\n",
       "      <td>2111300</td>\n",
       "      <td>H</td>\n",
       "      <td>101</td>\n",
       "      <td>5231102</td>\n",
       "      <td>784205</td>\n",
       "      <td>5</td>\n",
       "      <td>1</td>\n",
       "      <td>NaN</td>\n",
       "      <td>0</td>\n",
       "      <td>0</td>\n",
       "    </tr>\n",
       "  </tbody>\n",
       "</table>\n",
       "</div>"
      ],
      "text/plain": [
       "   Unnamed: 0   ano  mes sigla_uf  saldo_movimentacao  id_municipio  \\\n",
       "0           0  2020    2       MA                   1       2111300   \n",
       "1           1  2020    2       MA                   1       2111300   \n",
       "2           2  2020    2       MA                   1       2111300   \n",
       "3           3  2020    2       MA                  -1       2112001   \n",
       "4           4  2020    2       MA                  -1       2111300   \n",
       "\n",
       "  cnae_2_secao  categoria  cnae_2_subclasse  cbo_2002  grau_instrucao  sexo  \\\n",
       "0            H        101           5231102    715135               7     1   \n",
       "1            H        101           5231102    411010               9     3   \n",
       "2            H        101           5030102    215115               7     1   \n",
       "3            H        999           5091202    421125               5     3   \n",
       "4            H        101           5231102    784205               5     1   \n",
       "\n",
       "   salario_mensal  indicador_trabalho_intermitente  indicador_trabalho_parcial  \n",
       "0             NaN                                0                           0  \n",
       "1             NaN                                0                           0  \n",
       "2             NaN                                0                           0  \n",
       "3             NaN                                0                           0  \n",
       "4             NaN                                0                           0  "
      ]
     },
     "execution_count": 6,
     "metadata": {},
     "output_type": "execute_result"
    }
   ],
   "source": [
    "# verificar os dados \n",
    "dados.head(5)"
   ]
  },
  {
   "cell_type": "code",
   "execution_count": 9,
   "id": "3eefe05d",
   "metadata": {},
   "outputs": [
    {
     "data": {
      "text/plain": [
       "(2709, 15)"
      ]
     },
     "execution_count": 9,
     "metadata": {},
     "output_type": "execute_result"
    }
   ],
   "source": [
    "dados.shape"
   ]
  },
  {
   "cell_type": "code",
   "execution_count": 10,
   "id": "8b74041b",
   "metadata": {},
   "outputs": [
    {
     "data": {
      "text/html": [
       "<div>\n",
       "<style scoped>\n",
       "    .dataframe tbody tr th:only-of-type {\n",
       "        vertical-align: middle;\n",
       "    }\n",
       "\n",
       "    .dataframe tbody tr th {\n",
       "        vertical-align: top;\n",
       "    }\n",
       "\n",
       "    .dataframe thead th {\n",
       "        text-align: right;\n",
       "    }\n",
       "</style>\n",
       "<table border=\"1\" class=\"dataframe\">\n",
       "  <thead>\n",
       "    <tr style=\"text-align: right;\">\n",
       "      <th></th>\n",
       "      <th>Unnamed: 0</th>\n",
       "      <th>ano</th>\n",
       "      <th>mes</th>\n",
       "      <th>sigla_uf</th>\n",
       "      <th>saldo_movimentacao</th>\n",
       "      <th>id_municipio</th>\n",
       "      <th>cnae_2_secao</th>\n",
       "      <th>categoria</th>\n",
       "      <th>cnae_2_subclasse</th>\n",
       "      <th>cbo_2002</th>\n",
       "      <th>grau_instrucao</th>\n",
       "      <th>sexo</th>\n",
       "      <th>salario_mensal</th>\n",
       "      <th>indicador_trabalho_intermitente</th>\n",
       "      <th>indicador_trabalho_parcial</th>\n",
       "      <th>ano_mes</th>\n",
       "    </tr>\n",
       "  </thead>\n",
       "  <tbody>\n",
       "    <tr>\n",
       "      <th>0</th>\n",
       "      <td>0</td>\n",
       "      <td>2020</td>\n",
       "      <td>2</td>\n",
       "      <td>MA</td>\n",
       "      <td>1</td>\n",
       "      <td>2111300</td>\n",
       "      <td>H</td>\n",
       "      <td>101</td>\n",
       "      <td>5231102</td>\n",
       "      <td>715135</td>\n",
       "      <td>7</td>\n",
       "      <td>1</td>\n",
       "      <td>NaN</td>\n",
       "      <td>0</td>\n",
       "      <td>0</td>\n",
       "      <td>2020-2-01</td>\n",
       "    </tr>\n",
       "    <tr>\n",
       "      <th>1</th>\n",
       "      <td>1</td>\n",
       "      <td>2020</td>\n",
       "      <td>2</td>\n",
       "      <td>MA</td>\n",
       "      <td>1</td>\n",
       "      <td>2111300</td>\n",
       "      <td>H</td>\n",
       "      <td>101</td>\n",
       "      <td>5231102</td>\n",
       "      <td>411010</td>\n",
       "      <td>9</td>\n",
       "      <td>3</td>\n",
       "      <td>NaN</td>\n",
       "      <td>0</td>\n",
       "      <td>0</td>\n",
       "      <td>2020-2-01</td>\n",
       "    </tr>\n",
       "    <tr>\n",
       "      <th>2</th>\n",
       "      <td>2</td>\n",
       "      <td>2020</td>\n",
       "      <td>2</td>\n",
       "      <td>MA</td>\n",
       "      <td>1</td>\n",
       "      <td>2111300</td>\n",
       "      <td>H</td>\n",
       "      <td>101</td>\n",
       "      <td>5030102</td>\n",
       "      <td>215115</td>\n",
       "      <td>7</td>\n",
       "      <td>1</td>\n",
       "      <td>NaN</td>\n",
       "      <td>0</td>\n",
       "      <td>0</td>\n",
       "      <td>2020-2-01</td>\n",
       "    </tr>\n",
       "    <tr>\n",
       "      <th>3</th>\n",
       "      <td>3</td>\n",
       "      <td>2020</td>\n",
       "      <td>2</td>\n",
       "      <td>MA</td>\n",
       "      <td>-1</td>\n",
       "      <td>2112001</td>\n",
       "      <td>H</td>\n",
       "      <td>999</td>\n",
       "      <td>5091202</td>\n",
       "      <td>421125</td>\n",
       "      <td>5</td>\n",
       "      <td>3</td>\n",
       "      <td>NaN</td>\n",
       "      <td>0</td>\n",
       "      <td>0</td>\n",
       "      <td>2020-2-01</td>\n",
       "    </tr>\n",
       "    <tr>\n",
       "      <th>4</th>\n",
       "      <td>4</td>\n",
       "      <td>2020</td>\n",
       "      <td>2</td>\n",
       "      <td>MA</td>\n",
       "      <td>-1</td>\n",
       "      <td>2111300</td>\n",
       "      <td>H</td>\n",
       "      <td>101</td>\n",
       "      <td>5231102</td>\n",
       "      <td>784205</td>\n",
       "      <td>5</td>\n",
       "      <td>1</td>\n",
       "      <td>NaN</td>\n",
       "      <td>0</td>\n",
       "      <td>0</td>\n",
       "      <td>2020-2-01</td>\n",
       "    </tr>\n",
       "  </tbody>\n",
       "</table>\n",
       "</div>"
      ],
      "text/plain": [
       "   Unnamed: 0   ano  mes sigla_uf  saldo_movimentacao  id_municipio  \\\n",
       "0           0  2020    2       MA                   1       2111300   \n",
       "1           1  2020    2       MA                   1       2111300   \n",
       "2           2  2020    2       MA                   1       2111300   \n",
       "3           3  2020    2       MA                  -1       2112001   \n",
       "4           4  2020    2       MA                  -1       2111300   \n",
       "\n",
       "  cnae_2_secao  categoria  cnae_2_subclasse  cbo_2002  grau_instrucao  sexo  \\\n",
       "0            H        101           5231102    715135               7     1   \n",
       "1            H        101           5231102    411010               9     3   \n",
       "2            H        101           5030102    215115               7     1   \n",
       "3            H        999           5091202    421125               5     3   \n",
       "4            H        101           5231102    784205               5     1   \n",
       "\n",
       "   salario_mensal  indicador_trabalho_intermitente  \\\n",
       "0             NaN                                0   \n",
       "1             NaN                                0   \n",
       "2             NaN                                0   \n",
       "3             NaN                                0   \n",
       "4             NaN                                0   \n",
       "\n",
       "   indicador_trabalho_parcial    ano_mes  \n",
       "0                           0  2020-2-01  \n",
       "1                           0  2020-2-01  \n",
       "2                           0  2020-2-01  \n",
       "3                           0  2020-2-01  \n",
       "4                           0  2020-2-01  "
      ]
     },
     "execution_count": 10,
     "metadata": {},
     "output_type": "execute_result"
    }
   ],
   "source": [
    "dados['ano_mes'] = dados['ano'].map(str) + '-' + dados['mes'].map(str) + '-01'\n",
    "dados.head(5)"
   ]
  },
  {
   "cell_type": "code",
   "execution_count": 11,
   "id": "06879aeb",
   "metadata": {},
   "outputs": [],
   "source": [
    "from datetime import datetime\n",
    "import locale\n",
    "\n",
    "locale.setlocale(locale.LC_ALL, 'pt_BR')\n",
    "formato = \"%Y-%m-%d\"\n",
    "dados.ano_mes = dados.ano_mes.apply(lambda linha: datetime.strptime(linha, formato))"
   ]
  },
  {
   "cell_type": "code",
   "execution_count": 12,
   "id": "439f3c20",
   "metadata": {},
   "outputs": [
    {
     "data": {
      "text/plain": [
       "0      2020-02-01\n",
       "1      2020-02-01\n",
       "2      2020-02-01\n",
       "3      2020-02-01\n",
       "4      2020-02-01\n",
       "          ...    \n",
       "2704   2022-02-01\n",
       "2705   2022-02-01\n",
       "2706   2022-02-01\n",
       "2707   2022-02-01\n",
       "2708   2022-02-01\n",
       "Name: ano_mes, Length: 2709, dtype: datetime64[ns]"
      ]
     },
     "execution_count": 12,
     "metadata": {},
     "output_type": "execute_result"
    }
   ],
   "source": [
    "dados.ano_mes"
   ]
  },
  {
   "cell_type": "code",
   "execution_count": 20,
   "id": "0d9e700f",
   "metadata": {},
   "outputs": [
    {
     "data": {
      "text/plain": [
       "Series([], Name: sexo, dtype: int64)"
      ]
     },
     "execution_count": 20,
     "metadata": {},
     "output_type": "execute_result"
    }
   ],
   "source": [
    "# Vamos fazer o label encoding. \n",
    "# criar dicionário para recodificar variavel \n",
    "# https://www.sharpsightlabs.com/blog/recode-categorical-variable-python/ \n",
    "# dados.assign(teste  = dados.sexo.map(sexo_mapping)) Usar essa abordagem para testar antes de salvar diretamente no dataframe\n",
    "\n",
    "sexo_mapping = {1:'Masculino',\n",
    "                3:'Feminino'\n",
    "                    }\n",
    "\n",
    "dados['sexo'] = dados['sexo'].map(sexo_mapping) \n",
    "\n",
    "dados.sexo.value_counts()\n"
   ]
  },
  {
   "cell_type": "code",
   "execution_count": null,
   "id": "1fdc4457",
   "metadata": {},
   "outputs": [],
   "source": [
    "dados.head(3)"
   ]
  },
  {
   "cell_type": "code",
   "execution_count": null,
   "id": "6458ac4d",
   "metadata": {},
   "outputs": [],
   "source": [
    "regiao_mapping = {1:'Norte',\n",
    "                2:'Nordeste', \n",
    "                3:'Sudeste', \n",
    "                4:'Sul', \n",
    "                5:'Centro-Oeste', \n",
    "                9: 'nan'\n",
    "                    }\n",
    "\n",
    "\n"
   ]
  },
  {
   "cell_type": "code",
   "execution_count": null,
   "id": "3f02bb0b",
   "metadata": {},
   "outputs": [],
   "source": [
    "uf_mapping = {\n",
    "    11:'Rondonia',\n",
    "12:'Acre',\n",
    "13:'Amazonas',\n",
    "14:'Roraima',\n",
    "15:'Para',\n",
    "16:'Amapa',\n",
    "17:'Tocantins',\n",
    "21:'Maranhao',\n",
    "22:'Piaui',\n",
    "23:'Ceara',\n",
    "24:'Rio-Grande-do-Norte',\n",
    "25:'Paraiba',\n",
    "26:'Pernambuco',\n",
    "27:'Alagoas',\n",
    "28:'Sergipe',\n",
    "29:'Bahia',\n",
    "31:'Minas-gerais',\n",
    "32:'Espirito-Santo',\n",
    "33:'Rio-de-Janeiro', \n",
    "35:'Sao-Paulo',\n",
    "41:'Parana',\n",
    "42:'Santa Catarina',\n",
    "43:'Rio Grande do Sul',\n",
    "50:'Mato Grosso do Sul',\n",
    "51:'Mato Grosso',\n",
    "52:'Goias',\n",
    "53:'Distrito-Federal',\n",
    "99: 'nan'\n",
    "\n",
    "}"
   ]
  },
  {
   "cell_type": "code",
   "execution_count": null,
   "id": "fa67f5bd",
   "metadata": {},
   "outputs": [],
   "source": [
    "grauinstrucao_mapping = {1:'Analfabeto',\n",
    "2:'Até 5ª Incompleto',\n",
    "3:'5ª Completo Fundamental',\n",
    "4:'6ª a 9ª Fundamental',\n",
    "5:'Fundamental Completo',\n",
    "6:'Médio Incompleto',\n",
    "7:'Médio Completo',\n",
    "8:'Superior Incompleto',\n",
    "9:'Superior Completo',\n",
    "10:'Mestrado',\n",
    "11:'Doutorado',\n",
    "80:'Pós-Graduação completa',\n",
    "99:'Não Identificado'\n",
    "\n",
    "}\n",
    "\n",
    "dados['grau_instrucao'] = dados['grau_instrucao'].map(grauinstrucao_mapping)\n",
    "\n",
    "dados.grau_instrucao.value_counts()"
   ]
  },
  {
   "cell_type": "markdown",
   "id": "cda5cdf9",
   "metadata": {},
   "source": [
    "Leitura dos dados salvos no Drive"
   ]
  },
  {
   "cell_type": "code",
   "execution_count": null,
   "id": "9ee9485d",
   "metadata": {},
   "outputs": [],
   "source": [
    "descending_order = dados[\"grau_instrucao\"].value_counts().sort_values(ascending=False).index\n",
    "\n",
    "ax = sns.countplot(data=dados, y=\"grau_instrucao\", order=descending_order)\n",
    "\n"
   ]
  },
  {
   "cell_type": "code",
   "execution_count": null,
   "id": "8567c08f",
   "metadata": {},
   "outputs": [],
   "source": [
    "parcial_mapping = {1:'Sim', \n",
    "                0:'Nao', \n",
    "                9:'nan'\n",
    "                    }\n",
    "\n",
    "\n",
    "dados['indicador_trabalho_parcial'] = dados['indicador_trabalho_parcial'].map(parcial_mapping)\n",
    "\n",
    "dados.indicador_trabalho_parcial.value_counts()\n",
    "\n",
    "\n"
   ]
  },
  {
   "cell_type": "code",
   "execution_count": null,
   "id": "03b265b3",
   "metadata": {},
   "outputs": [],
   "source": [
    "ax = sns.countplot(x=\"indicador_trabalho_parcial\", data=dados)\n",
    "\n",
    "#Adicionar label com casa decimal. Verificar aqui: https://stackoverflow.com/questions/70515542/adding-comma-to-bar-labels \n",
    "\n",
    "#ax.bar_label(ax.containers[0], label_type='edge')\n",
    "container = ax.containers[0]\n",
    "ax.bar_label(container, labels=[f'{x:,.0f}' for x in container.datavalues])\n",
    "\n",
    "#https://www.kaggle.com/code/slamnz/seaborn-tutorial-count-plots\n",
    "#https://medium.com/swlh/quick-guide-to-labelling-data-for-common-seaborn-plots-736e10bf14a9 "
   ]
  },
  {
   "cell_type": "code",
   "execution_count": null,
   "id": "134926ec",
   "metadata": {},
   "outputs": [],
   "source": [
    "intermitente_mapping = {1:'Sim', \n",
    "                0:'Nao', \n",
    "                9:'nan'\n",
    "                    }\n",
    "\n",
    "dados['indicador_trabalho_intermitente'] = dados['indicador_trabalho_intermitente'].map(intermitente_mapping)\n",
    "\n",
    "dados.indicador_trabalho_intermitente.value_counts()"
   ]
  },
  {
   "cell_type": "code",
   "execution_count": null,
   "id": "67eec29a",
   "metadata": {},
   "outputs": [],
   "source": [
    "plot_intermitente = sns.countplot(x=\"indicador_trabalho_intermitente\", data=dados)\n",
    "\n",
    "plot_intermitente.bar_label(plot_intermitente.containers[0], label_type='edge')"
   ]
  },
  {
   "cell_type": "code",
   "execution_count": null,
   "id": "f4ddc839",
   "metadata": {},
   "outputs": [],
   "source": [
    "from matplotlib.pyplot import xticks\n",
    "\n",
    "lineplot = sns.lineplot(data=dados, x=\"ano_mes\", y=\"indicador_trabalho_intermitente\", hue = \"sexo\")\n",
    "#xticks(rotation=40)\n",
    "\n",
    "\n",
    "lineplot.set_xticklabels(lineplot.get_xticklabels(),rotation=30)\n",
    "lineplot.set_xlabel(\"Mês\")\n",
    "lineplot.set_ylabel(\"Trabalho Intermitente\")\n",
    "\n",
    "\n",
    "#https://stackoverflow.com/questions/44954123/rotate-xtick-labels-in-seaborn-boxplot \n",
    "#https://stackoverflow.com/questions/45201514/how-to-edit-a-seaborn-legend-title-and-labels-for-figure-level-functions\n"
   ]
  },
  {
   "cell_type": "code",
   "execution_count": null,
   "id": "d33ac54a",
   "metadata": {},
   "outputs": [],
   "source": [
    "pip install tabulate\n",
    "#https://towardsdatascience.com/how-to-easily-create-tables-in-python-2eaea447d8fd"
   ]
  },
  {
   "cell_type": "code",
   "execution_count": null,
   "id": "f6c264e5",
   "metadata": {},
   "outputs": [],
   "source": [
    "from tabulate import tabulate\n"
   ]
  },
  {
   "cell_type": "code",
   "execution_count": null,
   "id": "fbf1ad34",
   "metadata": {},
   "outputs": [],
   "source": [
    "intermitente = dados.indicador_trabalho_intermitente.value_counts()\n",
    "\n"
   ]
  },
  {
   "cell_type": "code",
   "execution_count": null,
   "id": "733567dd",
   "metadata": {},
   "outputs": [],
   "source": [
    "print(tabulate(dados, tablefmt='fancy_grid'))\n"
   ]
  },
  {
   "cell_type": "code",
   "execution_count": null,
   "id": "680f246a",
   "metadata": {},
   "outputs": [],
   "source": [
    "# secao cnae\n",
    "\n"
   ]
  },
  {
   "cell_type": "code",
   "execution_count": null,
   "id": "a3891ffa",
   "metadata": {},
   "outputs": [],
   "source": []
  }
 ],
 "metadata": {
  "kernelspec": {
   "display_name": "Python 3 (ipykernel)",
   "language": "python",
   "name": "python3"
  },
  "language_info": {
   "codemirror_mode": {
    "name": "ipython",
    "version": 3
   },
   "file_extension": ".py",
   "mimetype": "text/x-python",
   "name": "python",
   "nbconvert_exporter": "python",
   "pygments_lexer": "ipython3",
   "version": "3.8.15"
  },
  "vscode": {
   "interpreter": {
    "hash": "d47fe33bca25fb8a175ffe169ff1c35c395d3ccbd98091db69ef2344b314b856"
   }
  }
 },
 "nbformat": 4,
 "nbformat_minor": 5
}
