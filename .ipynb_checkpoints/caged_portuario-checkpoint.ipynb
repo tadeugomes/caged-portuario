{
 "cells": [
  {
   "cell_type": "code",
   "execution_count": 1,
   "id": "74df43d7",
   "metadata": {},
   "outputs": [],
   "source": [
    "import pandas as pd \n",
    "import seaborn as sn "
   ]
  },
  {
   "cell_type": "code",
   "execution_count": 2,
   "id": "b35dcd63",
   "metadata": {},
   "outputs": [
    {
     "name": "stdout",
     "output_type": "stream",
     "text": [
      "Requirement already satisfied: basedosdados in c:\\users\\tadeu\\anaconda3\\lib\\site-packages (1.5.6)\n",
      "Collecting tqdm==4.50.2\n",
      "  Using cached tqdm-4.50.2-py2.py3-none-any.whl (70 kB)\n",
      "Requirement already satisfied: google-cloud-storage==1.31.2 in c:\\users\\tadeu\\anaconda3\\lib\\site-packages (from basedosdados) (1.31.2)\n",
      "Requirement already satisfied: pandas-gbq==0.13.2 in c:\\users\\tadeu\\anaconda3\\lib\\site-packages (from basedosdados) (0.13.2)\n",
      "Requirement already satisfied: google-cloud-bigquery==1.28.0 in c:\\users\\tadeu\\anaconda3\\lib\\site-packages (from basedosdados) (1.28.0)\n",
      "Requirement already satisfied: tomlkit==0.7.0 in c:\\users\\tadeu\\anaconda3\\lib\\site-packages (from basedosdados) (0.7.0)\n",
      "Collecting Jinja2==2.11.2\n",
      "  Using cached Jinja2-2.11.2-py2.py3-none-any.whl (125 kB)\n",
      "Requirement already satisfied: click==7.1.2 in c:\\users\\tadeu\\anaconda3\\lib\\site-packages (from basedosdados) (7.1.2)\n",
      "Requirement already satisfied: ruamel.yaml==0.17.4 in c:\\users\\tadeu\\anaconda3\\lib\\site-packages (from basedosdados) (0.17.4)\n",
      "Requirement already satisfied: google-cloud-bigquery-storage==1.1.0 in c:\\users\\tadeu\\anaconda3\\lib\\site-packages (from basedosdados) (1.1.0)\n",
      "Requirement already satisfied: pyaml==20.4.0 in c:\\users\\tadeu\\anaconda3\\lib\\site-packages (from basedosdados) (20.4.0)\n",
      "Requirement already satisfied: pandas==1.2.4 in c:\\users\\tadeu\\anaconda3\\lib\\site-packages (from basedosdados) (1.2.4)\n",
      "Requirement already satisfied: google-resumable-media<2.0dev,>=0.6.0 in c:\\users\\tadeu\\anaconda3\\lib\\site-packages (from google-cloud-bigquery==1.28.0->basedosdados) (1.3.2)\n",
      "Requirement already satisfied: six<2.0.0dev,>=1.13.0 in c:\\users\\tadeu\\anaconda3\\lib\\site-packages (from google-cloud-bigquery==1.28.0->basedosdados) (1.15.0)\n",
      "Requirement already satisfied: google-api-core<2.0dev,>=1.21.0 in c:\\users\\tadeu\\anaconda3\\lib\\site-packages (from google-cloud-bigquery==1.28.0->basedosdados) (1.31.1)\n",
      "Requirement already satisfied: google-cloud-core<2.0dev,>=1.4.1 in c:\\users\\tadeu\\anaconda3\\lib\\site-packages (from google-cloud-bigquery==1.28.0->basedosdados) (1.7.2)\n",
      "Requirement already satisfied: requests<3.0.0dev,>=2.18.0 in c:\\users\\tadeu\\anaconda3\\lib\\site-packages (from google-cloud-storage==1.31.2->basedosdados) (2.25.1)\n",
      "Requirement already satisfied: google-auth<2.0dev,>=1.11.0 in c:\\users\\tadeu\\anaconda3\\lib\\site-packages (from google-cloud-storage==1.31.2->basedosdados) (1.34.0)\n",
      "Requirement already satisfied: MarkupSafe>=0.23 in c:\\users\\tadeu\\anaconda3\\lib\\site-packages (from Jinja2==2.11.2->basedosdados) (1.1.1)\n",
      "Requirement already satisfied: pytz>=2017.3 in c:\\users\\tadeu\\anaconda3\\lib\\site-packages (from pandas==1.2.4->basedosdados) (2021.1)\n",
      "Requirement already satisfied: numpy>=1.16.5 in c:\\users\\tadeu\\anaconda3\\lib\\site-packages (from pandas==1.2.4->basedosdados) (1.20.1)\n",
      "Requirement already satisfied: python-dateutil>=2.7.3 in c:\\users\\tadeu\\anaconda3\\lib\\site-packages (from pandas==1.2.4->basedosdados) (2.8.1)\n",
      "Requirement already satisfied: google-auth-oauthlib in c:\\users\\tadeu\\anaconda3\\lib\\site-packages (from pandas-gbq==0.13.2->basedosdados) (0.4.5)\n",
      "Requirement already satisfied: setuptools in c:\\users\\tadeu\\anaconda3\\lib\\site-packages (from pandas-gbq==0.13.2->basedosdados) (52.0.0.post20210125)\n",
      "Requirement already satisfied: pydata-google-auth in c:\\users\\tadeu\\anaconda3\\lib\\site-packages (from pandas-gbq==0.13.2->basedosdados) (1.2.0)\n",
      "Requirement already satisfied: PyYAML in c:\\users\\tadeu\\anaconda3\\lib\\site-packages (from pyaml==20.4.0->basedosdados) (5.4.1)\n",
      "Requirement already satisfied: ruamel.yaml.clib>=0.1.2 in c:\\users\\tadeu\\anaconda3\\lib\\site-packages (from ruamel.yaml==0.17.4->basedosdados) (0.2.6)\n",
      "Requirement already satisfied: packaging>=14.3 in c:\\users\\tadeu\\anaconda3\\lib\\site-packages (from google-api-core<2.0dev,>=1.21.0->google-cloud-bigquery==1.28.0->basedosdados) (20.9)\n",
      "Requirement already satisfied: googleapis-common-protos<2.0dev,>=1.6.0 in c:\\users\\tadeu\\anaconda3\\lib\\site-packages (from google-api-core<2.0dev,>=1.21.0->google-cloud-bigquery==1.28.0->basedosdados) (1.53.0)\n",
      "Requirement already satisfied: protobuf>=3.12.0 in c:\\users\\tadeu\\anaconda3\\lib\\site-packages (from google-api-core<2.0dev,>=1.21.0->google-cloud-bigquery==1.28.0->basedosdados) (3.17.3)\n",
      "Requirement already satisfied: grpcio<2.0dev,>=1.29.0 in c:\\users\\tadeu\\anaconda3\\lib\\site-packages (from google-api-core<2.0dev,>=1.21.0->google-cloud-bigquery==1.28.0->basedosdados) (1.39.0)\n",
      "Requirement already satisfied: pyasn1-modules>=0.2.1 in c:\\users\\tadeu\\anaconda3\\lib\\site-packages (from google-auth<2.0dev,>=1.11.0->google-cloud-storage==1.31.2->basedosdados) (0.2.8)\n",
      "Requirement already satisfied: cachetools<5.0,>=2.0.0 in c:\\users\\tadeu\\anaconda3\\lib\\site-packages (from google-auth<2.0dev,>=1.11.0->google-cloud-storage==1.31.2->basedosdados) (4.2.2)\n",
      "Requirement already satisfied: rsa<5,>=3.1.4 in c:\\users\\tadeu\\anaconda3\\lib\\site-packages (from google-auth<2.0dev,>=1.11.0->google-cloud-storage==1.31.2->basedosdados) (4.7.2)\n",
      "Requirement already satisfied: google-crc32c<2.0dev,>=1.0 in c:\\users\\tadeu\\anaconda3\\lib\\site-packages (from google-resumable-media<2.0dev,>=0.6.0->google-cloud-bigquery==1.28.0->basedosdados) (1.1.2)\n",
      "Requirement already satisfied: cffi>=1.0.0 in c:\\users\\tadeu\\anaconda3\\lib\\site-packages (from google-crc32c<2.0dev,>=1.0->google-resumable-media<2.0dev,>=0.6.0->google-cloud-bigquery==1.28.0->basedosdados) (1.14.5)\n",
      "Requirement already satisfied: pycparser in c:\\users\\tadeu\\anaconda3\\lib\\site-packages (from cffi>=1.0.0->google-crc32c<2.0dev,>=1.0->google-resumable-media<2.0dev,>=0.6.0->google-cloud-bigquery==1.28.0->basedosdados) (2.20)\n",
      "Requirement already satisfied: pyparsing>=2.0.2 in c:\\users\\tadeu\\anaconda3\\lib\\site-packages (from packaging>=14.3->google-api-core<2.0dev,>=1.21.0->google-cloud-bigquery==1.28.0->basedosdados) (2.4.7)\n",
      "Requirement already satisfied: pyasn1<0.5.0,>=0.4.6 in c:\\users\\tadeu\\anaconda3\\lib\\site-packages (from pyasn1-modules>=0.2.1->google-auth<2.0dev,>=1.11.0->google-cloud-storage==1.31.2->basedosdados) (0.4.8)\n",
      "Requirement already satisfied: idna<3,>=2.5 in c:\\users\\tadeu\\anaconda3\\lib\\site-packages (from requests<3.0.0dev,>=2.18.0->google-cloud-storage==1.31.2->basedosdados) (2.10)\n",
      "Requirement already satisfied: certifi>=2017.4.17 in c:\\users\\tadeu\\anaconda3\\lib\\site-packages (from requests<3.0.0dev,>=2.18.0->google-cloud-storage==1.31.2->basedosdados) (2021.10.8)\n",
      "Requirement already satisfied: urllib3<1.27,>=1.21.1 in c:\\users\\tadeu\\anaconda3\\lib\\site-packages (from requests<3.0.0dev,>=2.18.0->google-cloud-storage==1.31.2->basedosdados) (1.26.4)\n",
      "Requirement already satisfied: chardet<5,>=3.0.2 in c:\\users\\tadeu\\anaconda3\\lib\\site-packages (from requests<3.0.0dev,>=2.18.0->google-cloud-storage==1.31.2->basedosdados) (4.0.0)\n",
      "Requirement already satisfied: requests-oauthlib>=0.7.0 in c:\\users\\tadeu\\anaconda3\\lib\\site-packages (from google-auth-oauthlib->pandas-gbq==0.13.2->basedosdados) (1.3.0)\n",
      "Requirement already satisfied: oauthlib>=3.0.0 in c:\\users\\tadeu\\anaconda3\\lib\\site-packages (from requests-oauthlib>=0.7.0->google-auth-oauthlib->pandas-gbq==0.13.2->basedosdados) (3.1.1)\n",
      "Installing collected packages: tqdm, Jinja2\n",
      "  Attempting uninstall: tqdm\n",
      "    Found existing installation: tqdm 4.62.3\n",
      "    Uninstalling tqdm-4.62.3:\n",
      "      Successfully uninstalled tqdm-4.62.3\n",
      "  Attempting uninstall: Jinja2\n",
      "    Found existing installation: Jinja2 2.11.3\n",
      "    Uninstalling Jinja2-2.11.3:\n",
      "      Successfully uninstalled Jinja2-2.11.3\n",
      "Successfully installed Jinja2-2.11.2 tqdm-4.50.2\n"
     ]
    }
   ],
   "source": [
    "\n",
    "# Instalar o pacote da basedosdados, caso seja a primeira vez a rodar o script\n",
    "# ! pip install basedosdados"
   ]
  },
  {
   "cell_type": "code",
   "execution_count": 3,
   "id": "3f0d7438",
   "metadata": {},
   "outputs": [],
   "source": [
    "import basedosdados as bd"
   ]
  },
  {
   "cell_type": "code",
   "execution_count": 4,
   "id": "31915595",
   "metadata": {},
   "outputs": [
    {
     "name": "stdout",
     "output_type": "stream",
     "text": [
      "Please visit this URL to authorize this application: https://accounts.google.com/o/oauth2/auth?response_type=code&client_id=262006177488-3425ks60hkk80fssi9vpohv88g6q1iqd.apps.googleusercontent.com&redirect_uri=urn%3Aietf%3Awg%3Aoauth%3A2.0%3Aoob&scope=https%3A%2F%2Fwww.googleapis.com%2Fauth%2Fcloud-platform&state=ccKtmVLZl3Vu8xr7Y9ENkmhs5RP5XZ&prompt=consent&access_type=offline\n",
      "Enter the authorization code: 4/1AfgeXvtsw-CeQ1aTPnQWaVsXOJkxYL1JPzMEnjnUXF-NGkS8mnTeQYv13f4\n"
     ]
    },
    {
     "name": "stderr",
     "output_type": "stream",
     "text": [
      "Downloading: 100%|██████████| 824854/824854 [01:24<00:00, 9716.34rows/s] \n"
     ]
    }
   ],
   "source": [
    "# Para carregar e salvar os dados \n",
    "\n",
    "query = \"\"\"\n",
    "SELECT ano, mes, sigla_uf, saldo_movimentacao, id_municipio, cnae_2_secao, cnae_2_subclasse, cbo_2002, grau_instrucao, sexo, salario_mensal, indicador_trabalho_intermitente,\n",
    "indicador_trabalho_parcial,  FROM `basedosdados.br_me_caged.microdados_movimentacao` WHERE sigla_uf = \"MA\"\n",
    "\"\"\" \n",
    "\n",
    "dados = bd.read_sql(query, billing_project_id=\"caged-368713\")"
   ]
  },
  {
   "cell_type": "code",
   "execution_count": 6,
   "id": "b5813952",
   "metadata": {},
   "outputs": [],
   "source": [
    "# salvar os dados em .csv \n",
    "dados.to_csv(\"dados.csv\", encoding = 'utf-8')"
   ]
  },
  {
   "cell_type": "code",
   "execution_count": 45,
   "id": "e0aac964",
   "metadata": {},
   "outputs": [],
   "source": [
    "dados = pd.read_csv(\"dados.csv\")"
   ]
  },
  {
   "cell_type": "code",
   "execution_count": 39,
   "id": "14618e90",
   "metadata": {},
   "outputs": [
    {
     "data": {
      "text/html": [
       "<div>\n",
       "<style scoped>\n",
       "    .dataframe tbody tr th:only-of-type {\n",
       "        vertical-align: middle;\n",
       "    }\n",
       "\n",
       "    .dataframe tbody tr th {\n",
       "        vertical-align: top;\n",
       "    }\n",
       "\n",
       "    .dataframe thead th {\n",
       "        text-align: right;\n",
       "    }\n",
       "</style>\n",
       "<table border=\"1\" class=\"dataframe\">\n",
       "  <thead>\n",
       "    <tr style=\"text-align: right;\">\n",
       "      <th></th>\n",
       "      <th>Unnamed: 0</th>\n",
       "      <th>ano</th>\n",
       "      <th>mes</th>\n",
       "      <th>sigla_uf</th>\n",
       "      <th>saldo_movimentacao</th>\n",
       "      <th>id_municipio</th>\n",
       "      <th>cnae_2_secao</th>\n",
       "      <th>cnae_2_subclasse</th>\n",
       "      <th>cbo_2002</th>\n",
       "      <th>grau_instrucao</th>\n",
       "      <th>sexo</th>\n",
       "      <th>salario_mensal</th>\n",
       "      <th>indicador_trabalho_intermitente</th>\n",
       "      <th>indicador_trabalho_parcial</th>\n",
       "    </tr>\n",
       "  </thead>\n",
       "  <tbody>\n",
       "    <tr>\n",
       "      <th>0</th>\n",
       "      <td>0</td>\n",
       "      <td>2020</td>\n",
       "      <td>7</td>\n",
       "      <td>MA</td>\n",
       "      <td>1</td>\n",
       "      <td>2107506</td>\n",
       "      <td>C</td>\n",
       "      <td>2222600</td>\n",
       "      <td>783225</td>\n",
       "      <td>7</td>\n",
       "      <td>1</td>\n",
       "      <td>NaN</td>\n",
       "      <td>0</td>\n",
       "      <td>0</td>\n",
       "    </tr>\n",
       "    <tr>\n",
       "      <th>1</th>\n",
       "      <td>1</td>\n",
       "      <td>2020</td>\n",
       "      <td>7</td>\n",
       "      <td>MA</td>\n",
       "      <td>1</td>\n",
       "      <td>2111300</td>\n",
       "      <td>G</td>\n",
       "      <td>4772500</td>\n",
       "      <td>421125</td>\n",
       "      <td>7</td>\n",
       "      <td>3</td>\n",
       "      <td>NaN</td>\n",
       "      <td>0</td>\n",
       "      <td>0</td>\n",
       "    </tr>\n",
       "    <tr>\n",
       "      <th>2</th>\n",
       "      <td>2</td>\n",
       "      <td>2020</td>\n",
       "      <td>7</td>\n",
       "      <td>MA</td>\n",
       "      <td>1</td>\n",
       "      <td>2111300</td>\n",
       "      <td>Q</td>\n",
       "      <td>8630502</td>\n",
       "      <td>514225</td>\n",
       "      <td>2</td>\n",
       "      <td>1</td>\n",
       "      <td>NaN</td>\n",
       "      <td>0</td>\n",
       "      <td>0</td>\n",
       "    </tr>\n",
       "    <tr>\n",
       "      <th>3</th>\n",
       "      <td>3</td>\n",
       "      <td>2020</td>\n",
       "      <td>7</td>\n",
       "      <td>MA</td>\n",
       "      <td>1</td>\n",
       "      <td>2111508</td>\n",
       "      <td>N</td>\n",
       "      <td>8299799</td>\n",
       "      <td>715125</td>\n",
       "      <td>4</td>\n",
       "      <td>1</td>\n",
       "      <td>NaN</td>\n",
       "      <td>0</td>\n",
       "      <td>0</td>\n",
       "    </tr>\n",
       "    <tr>\n",
       "      <th>4</th>\n",
       "      <td>4</td>\n",
       "      <td>2020</td>\n",
       "      <td>7</td>\n",
       "      <td>MA</td>\n",
       "      <td>1</td>\n",
       "      <td>2104552</td>\n",
       "      <td>C</td>\n",
       "      <td>1121600</td>\n",
       "      <td>784205</td>\n",
       "      <td>7</td>\n",
       "      <td>1</td>\n",
       "      <td>NaN</td>\n",
       "      <td>0</td>\n",
       "      <td>0</td>\n",
       "    </tr>\n",
       "  </tbody>\n",
       "</table>\n",
       "</div>"
      ],
      "text/plain": [
       "   Unnamed: 0   ano  mes sigla_uf  saldo_movimentacao  id_municipio  \\\n",
       "0           0  2020    7       MA                   1       2107506   \n",
       "1           1  2020    7       MA                   1       2111300   \n",
       "2           2  2020    7       MA                   1       2111300   \n",
       "3           3  2020    7       MA                   1       2111508   \n",
       "4           4  2020    7       MA                   1       2104552   \n",
       "\n",
       "  cnae_2_secao  cnae_2_subclasse  cbo_2002  grau_instrucao  sexo  \\\n",
       "0            C           2222600    783225               7     1   \n",
       "1            G           4772500    421125               7     3   \n",
       "2            Q           8630502    514225               2     1   \n",
       "3            N           8299799    715125               4     1   \n",
       "4            C           1121600    784205               7     1   \n",
       "\n",
       "   salario_mensal  indicador_trabalho_intermitente  indicador_trabalho_parcial  \n",
       "0             NaN                                0                           0  \n",
       "1             NaN                                0                           0  \n",
       "2             NaN                                0                           0  \n",
       "3             NaN                                0                           0  \n",
       "4             NaN                                0                           0  "
      ]
     },
     "execution_count": 39,
     "metadata": {},
     "output_type": "execute_result"
    }
   ],
   "source": [
    "# verificar os dados \n",
    "dados.head(5)"
   ]
  },
  {
   "cell_type": "code",
   "execution_count": 47,
   "id": "0d9e700f",
   "metadata": {},
   "outputs": [],
   "source": [
    "# Vamos fazer o label encoding. \n",
    "# criar dicionário para recodificar variavel \n",
    "# https://www.sharpsightlabs.com/blog/recode-categorical-variable-python/ \n",
    "# dados.assign(teste  = dados.sexo.map(sexo_mapping)) Usar essa abordagem para testar antes de salvar diretamente no dataframe\n",
    "\n",
    "sexo_mapping = {1:'Masculino',\n",
    "                3:'Feminino'\n",
    "                    }\n"
   ]
  },
  {
   "cell_type": "code",
   "execution_count": 48,
   "id": "0694ba7b",
   "metadata": {},
   "outputs": [],
   "source": [
    "dados['sexo'] = dados['sexo'].map(sexo_mapping)"
   ]
  },
  {
   "cell_type": "code",
   "execution_count": 43,
   "id": "1fdc4457",
   "metadata": {},
   "outputs": [
    {
     "data": {
      "text/html": [
       "<div>\n",
       "<style scoped>\n",
       "    .dataframe tbody tr th:only-of-type {\n",
       "        vertical-align: middle;\n",
       "    }\n",
       "\n",
       "    .dataframe tbody tr th {\n",
       "        vertical-align: top;\n",
       "    }\n",
       "\n",
       "    .dataframe thead th {\n",
       "        text-align: right;\n",
       "    }\n",
       "</style>\n",
       "<table border=\"1\" class=\"dataframe\">\n",
       "  <thead>\n",
       "    <tr style=\"text-align: right;\">\n",
       "      <th></th>\n",
       "      <th>Unnamed: 0</th>\n",
       "      <th>ano</th>\n",
       "      <th>mes</th>\n",
       "      <th>sigla_uf</th>\n",
       "      <th>saldo_movimentacao</th>\n",
       "      <th>id_municipio</th>\n",
       "      <th>cnae_2_secao</th>\n",
       "      <th>cnae_2_subclasse</th>\n",
       "      <th>cbo_2002</th>\n",
       "      <th>grau_instrucao</th>\n",
       "      <th>sexo</th>\n",
       "      <th>salario_mensal</th>\n",
       "      <th>indicador_trabalho_intermitente</th>\n",
       "      <th>indicador_trabalho_parcial</th>\n",
       "    </tr>\n",
       "  </thead>\n",
       "  <tbody>\n",
       "    <tr>\n",
       "      <th>0</th>\n",
       "      <td>0</td>\n",
       "      <td>2020</td>\n",
       "      <td>7</td>\n",
       "      <td>MA</td>\n",
       "      <td>1</td>\n",
       "      <td>2107506</td>\n",
       "      <td>C</td>\n",
       "      <td>2222600</td>\n",
       "      <td>783225</td>\n",
       "      <td>7</td>\n",
       "      <td>Masculino</td>\n",
       "      <td>NaN</td>\n",
       "      <td>0</td>\n",
       "      <td>0</td>\n",
       "    </tr>\n",
       "    <tr>\n",
       "      <th>1</th>\n",
       "      <td>1</td>\n",
       "      <td>2020</td>\n",
       "      <td>7</td>\n",
       "      <td>MA</td>\n",
       "      <td>1</td>\n",
       "      <td>2111300</td>\n",
       "      <td>G</td>\n",
       "      <td>4772500</td>\n",
       "      <td>421125</td>\n",
       "      <td>7</td>\n",
       "      <td>NaN</td>\n",
       "      <td>NaN</td>\n",
       "      <td>0</td>\n",
       "      <td>0</td>\n",
       "    </tr>\n",
       "    <tr>\n",
       "      <th>2</th>\n",
       "      <td>2</td>\n",
       "      <td>2020</td>\n",
       "      <td>7</td>\n",
       "      <td>MA</td>\n",
       "      <td>1</td>\n",
       "      <td>2111300</td>\n",
       "      <td>Q</td>\n",
       "      <td>8630502</td>\n",
       "      <td>514225</td>\n",
       "      <td>2</td>\n",
       "      <td>Masculino</td>\n",
       "      <td>NaN</td>\n",
       "      <td>0</td>\n",
       "      <td>0</td>\n",
       "    </tr>\n",
       "  </tbody>\n",
       "</table>\n",
       "</div>"
      ],
      "text/plain": [
       "   Unnamed: 0   ano  mes sigla_uf  saldo_movimentacao  id_municipio  \\\n",
       "0           0  2020    7       MA                   1       2107506   \n",
       "1           1  2020    7       MA                   1       2111300   \n",
       "2           2  2020    7       MA                   1       2111300   \n",
       "\n",
       "  cnae_2_secao  cnae_2_subclasse  cbo_2002  grau_instrucao       sexo  \\\n",
       "0            C           2222600    783225               7  Masculino   \n",
       "1            G           4772500    421125               7        NaN   \n",
       "2            Q           8630502    514225               2  Masculino   \n",
       "\n",
       "   salario_mensal  indicador_trabalho_intermitente  indicador_trabalho_parcial  \n",
       "0             NaN                                0                           0  \n",
       "1             NaN                                0                           0  \n",
       "2             NaN                                0                           0  "
      ]
     },
     "execution_count": 43,
     "metadata": {},
     "output_type": "execute_result"
    }
   ],
   "source": [
    "dados.head(3)"
   ]
  },
  {
   "cell_type": "markdown",
   "id": "cda5cdf9",
   "metadata": {},
   "source": [
    "Leitura dos dados salvos no Drive"
   ]
  },
  {
   "cell_type": "code",
   "execution_count": 49,
   "id": "d4d76dea",
   "metadata": {},
   "outputs": [
    {
     "data": {
      "text/plain": [
       "Masculino    561947\n",
       "Feminino     262907\n",
       "Name: sexo, dtype: int64"
      ]
     },
     "execution_count": 49,
     "metadata": {},
     "output_type": "execute_result"
    }
   ],
   "source": [
    "dados.sexo.value_counts()"
   ]
  },
  {
   "cell_type": "code",
   "execution_count": 50,
   "id": "8567c08f",
   "metadata": {},
   "outputs": [
    {
     "data": {
      "text/plain": [
       "0    800374\n",
       "1     13966\n",
       "9     10514\n",
       "Name: indicador_trabalho_parcial, dtype: int64"
      ]
     },
     "execution_count": 50,
     "metadata": {},
     "output_type": "execute_result"
    }
   ],
   "source": [
    "dados.indicador_trabalho_parcial.value_counts()"
   ]
  },
  {
   "cell_type": "code",
   "execution_count": 36,
   "id": "4b7eb4db",
   "metadata": {},
   "outputs": [],
   "source": [
    "parcial_mapping = {1:'Sim'\n",
    "                    ,0:'Nao'\n",
    "                    }\n"
   ]
  },
  {
   "cell_type": "code",
   "execution_count": 37,
   "id": "81061309",
   "metadata": {},
   "outputs": [],
   "source": [
    "dados['indicador_trabalho_parcial'] = dados['indicador_trabalho_parcial'].map(parcial_mapping)"
   ]
  },
  {
   "cell_type": "code",
   "execution_count": null,
   "id": "134926ec",
   "metadata": {},
   "outputs": [],
   "source": []
  }
 ],
 "metadata": {
  "kernelspec": {
   "display_name": "Python 3",
   "language": "python",
   "name": "python3"
  },
  "language_info": {
   "codemirror_mode": {
    "name": "ipython",
    "version": 3
   },
   "file_extension": ".py",
   "mimetype": "text/x-python",
   "name": "python",
   "nbconvert_exporter": "python",
   "pygments_lexer": "ipython3",
   "version": "3.8.8"
  }
 },
 "nbformat": 4,
 "nbformat_minor": 5
}
